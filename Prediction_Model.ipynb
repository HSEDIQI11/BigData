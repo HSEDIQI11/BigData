{
 "cells": [
  {
   "cell_type": "code",
   "execution_count": 2,
   "id": "7a4e09e6",
   "metadata": {},
   "outputs": [],
   "source": [
    "import pandas as pd\n",
    "from sklearn.model_selection import train_test_split\n",
    "from sklearn.ensemble import RandomForestRegressor\n",
    "import matplotlib.pyplot as plt\n",
    "from sklearn.linear_model import LinearRegression\n",
    "from sklearn.metrics import mean_squared_error \n",
    "from sklearn.preprocessing import OneHotEncoder\n",
    "from sklearn.metrics import mean_absolute_error\n",
    "from sqlalchemy import create_engine"
   ]
  },
  {
   "cell_type": "code",
   "execution_count": 3,
   "id": "d69a1683",
   "metadata": {},
   "outputs": [],
   "source": [
    "df = pd.read_csv('final_internal_temp.csv')"
   ]
  },
  {
   "cell_type": "code",
   "execution_count": 4,
   "id": "1748b778",
   "metadata": {},
   "outputs": [],
   "source": [
    "# We select Temperature and Weather as input value\n",
    "X = df[['Temperature', 'Weather']]\n",
    "y = df['Internal Temperature']"
   ]
  },
  {
   "cell_type": "code",
   "execution_count": 5,
   "id": "521a9792",
   "metadata": {},
   "outputs": [],
   "source": [
    "# Change categorical variables to binary vectors\n",
    "X_encoded = pd.get_dummies(X, columns=['Weather'])"
   ]
  },
  {
   "cell_type": "code",
   "execution_count": 6,
   "id": "759cad86",
   "metadata": {},
   "outputs": [],
   "source": [
    "# Split the dataset into training and testing sets\n",
    "X_train, X_test, y_train, y_test = train_test_split(X_encoded, y, test_size=0.2, random_state=42)"
   ]
  },
  {
   "cell_type": "code",
   "execution_count": 7,
   "id": "67137027",
   "metadata": {},
   "outputs": [
    {
     "data": {
      "text/plain": [
       "LinearRegression()"
      ]
     },
     "execution_count": 7,
     "metadata": {},
     "output_type": "execute_result"
    }
   ],
   "source": [
    "# Train the model\n",
    "model = LinearRegression()\n",
    "model.fit(X_train, y_train)"
   ]
  },
  {
   "cell_type": "code",
   "execution_count": 8,
   "id": "47ea91d9",
   "metadata": {},
   "outputs": [],
   "source": [
    "# Make predictions\n",
    "y_train_pred = model.predict(X_train)\n",
    "y_test_pred = model.predict(X_test)"
   ]
  },
  {
   "cell_type": "code",
   "execution_count": 9,
   "id": "c8f0393c",
   "metadata": {},
   "outputs": [],
   "source": [
    "# Evaluate the model\n",
    "train_rmse = mean_squared_error(y_train, y_train_pred, squared=False)\n",
    "test_rmse = mean_squared_error(y_test, y_test_pred, squared=False)"
   ]
  },
  {
   "cell_type": "code",
   "execution_count": 10,
   "id": "96e2d7b7",
   "metadata": {},
   "outputs": [
    {
     "name": "stdout",
     "output_type": "stream",
     "text": [
      "Training RMSE: 0.7006963973232718\n",
      "Testing RMSE: 0.7207520317679105\n"
     ]
    }
   ],
   "source": [
    "print(\"Training RMSE:\", train_rmse)\n",
    "print(\"Testing RMSE:\", test_rmse)"
   ]
  },
  {
   "cell_type": "code",
   "execution_count": 11,
   "id": "2858bcc7",
   "metadata": {},
   "outputs": [
    {
     "name": "stdout",
     "output_type": "stream",
     "text": [
      "Temperature: 24.6°C\n",
      "Feels Like: 24.6°C\n",
      "Humidity: 57%\n",
      "Wind Speed: 6.17 m/s\n",
      "Weather: Few clouds\n"
     ]
    }
   ],
   "source": [
    "api_key = \"141804de4ea61ac2a29b76576308ed37\"\n",
    "import requests\n",
    "def get_weather(api_key, city):\n",
    "    base_url = f\"http://api.openweathermap.org/data/2.5/weather?q={city}&units=metric&appid={api_key}\"\n",
    "    response = requests.get(base_url)\n",
    "    data = response.json()\n",
    "    if data[\"cod\"] != \"404\":\n",
    "        main = data[\"main\"]\n",
    "        wind = data[\"wind\"]\n",
    "        weather_desc = data[\"weather\"][0][\"description\"]\n",
    "\n",
    "        # collect the necessary data\n",
    "        temperature = main[\"temp\"]\n",
    "        feels_like = main[\"feels_like\"]\n",
    "        humidity = main[\"humidity\"]\n",
    "        wind_speed = wind[\"speed\"]\n",
    "        weather = weather_desc.capitalize()\n",
    "\n",
    "        return temperature, feels_like, humidity, wind_speed, weather\n",
    "    else:\n",
    "        return None\n",
    "\n",
    "# Use your own API Key and preferred city\n",
    "city = \"trento\"\n",
    "\n",
    "weather_data = get_weather(api_key, city)\n",
    "\n",
    "if weather_data is not None:\n",
    "    print(f\"Temperature: {weather_data[0]}°C\")\n",
    "    print(f\"Feels Like: {weather_data[1]}°C\")\n",
    "    print(f\"Humidity: {weather_data[2]}%\")\n",
    "    print(f\"Wind Speed: {weather_data[3]} m/s\")\n",
    "    print(f\"Weather: {weather_data[4]}\")\n",
    "else:\n",
    "    print(\"City not found.\")"
   ]
  },
  {
   "cell_type": "code",
   "execution_count": 12,
   "id": "2a4c0334",
   "metadata": {},
   "outputs": [
    {
     "name": "stdout",
     "output_type": "stream",
     "text": [
      "Predicted Internal Temperature: [19.67442923]\n"
     ]
    }
   ],
   "source": [
    "temp = weather_data[0]\n",
    "weather = weather_data[4]\n",
    "\n",
    "# Create an initial dataframe\n",
    "new_data = pd.DataFrame({'Temperature': [temp]})\n",
    "\n",
    "# Generate a one-hot encoded dataframe for the 'weather' variable\n",
    "weather_encoded = pd.get_dummies(pd.Series(weather))\n",
    "\n",
    "# Make sure that it has all the weather types, even if they're not present in this specific instance\n",
    "for column in X_train.columns:\n",
    "    if column not in weather_encoded.columns and 'Weather' in column:\n",
    "        weather_encoded[column] = 0\n",
    "\n",
    "# Concatenate the temperature dataframe and the one-hot encoded weather dataframe\n",
    "new_data = pd.concat([new_data, weather_encoded], axis=1)\n",
    "\n",
    "# Ensure the new_data has the same column order as your training set\n",
    "new_data = new_data.reindex(columns = X_encoded.columns, fill_value=0)\n",
    "\n",
    "# Now we can predict using the new data\n",
    "predictions = model.predict(new_data)\n",
    "\n",
    "print(\"Predicted Internal Temperature:\", predictions)\n"
   ]
  },
  {
   "cell_type": "code",
   "execution_count": 13,
   "id": "ea59fd11",
   "metadata": {},
   "outputs": [
    {
     "name": "stdout",
     "output_type": "stream",
     "text": [
      "Predicted Internal Temperature: [19.67442923]\n",
      " * Serving Flask app \"__main__\" (lazy loading)\n",
      " * Environment: production\n",
      "\u001b[31m   WARNING: This is a development server. Do not use it in a production deployment.\u001b[0m\n",
      "\u001b[2m   Use a production WSGI server instead.\u001b[0m\n",
      " * Debug mode: off\n"
     ]
    },
    {
     "name": "stderr",
     "output_type": "stream",
     "text": [
      " * Running on http://127.0.0.1:5001/ (Press CTRL+C to quit)\n",
      "127.0.0.1 - - [09/Jun/2023 18:25:25] \"\u001b[37mGET / HTTP/1.1\u001b[0m\" 200 -\n",
      "127.0.0.1 - - [09/Jun/2023 18:25:31] \"\u001b[37mGET /suggested_temperature HTTP/1.1\u001b[0m\" 200 -\n"
     ]
    }
   ],
   "source": [
    "...\n",
    "print(\"Predicted Internal Temperature:\", predictions)\n",
    "\n",
    "import nest_asyncio\n",
    "from flask import Flask, render_template, jsonify, request\n",
    "import json\n",
    "\n",
    "# apply the patch, to enable nested event loops\n",
    "nest_asyncio.apply()\n",
    "\n",
    "app = Flask(__name__, template_folder='.')\n",
    "\n",
    "@app.route(\"/\")\n",
    "def index():\n",
    "    return render_template('thermo.html')\n",
    "\n",
    "# Insert the new \"/suggested_temperature\" route code here\n",
    "@app.route(\"/suggested_temperature\", methods=['GET'])\n",
    "def suggested_temperature():\n",
    "    weather_data = get_weather(api_key, city)\n",
    "    if weather_data is None:\n",
    "        return jsonify({'error': 'City not found.'}), 404\n",
    "\n",
    "    temp = weather_data[0]\n",
    "    weather = weather_data[4]\n",
    "\n",
    "    # Create an initial dataframe\n",
    "    new_data = pd.DataFrame({'Temperature': [temp]})\n",
    "\n",
    "    # Generate a one-hot encoded dataframe for the 'weather' variable\n",
    "    weather_encoded = pd.get_dummies(pd.Series(weather))\n",
    "\n",
    "    # Make sure that it has all the weather types, even if they're not present in this specific instance\n",
    "    for column in X_train.columns:\n",
    "        if column not in weather_encoded.columns and 'Weather' in column:\n",
    "            weather_encoded[column] = 0\n",
    "\n",
    "    # Concatenate the temperature dataframe and the one-hot encoded weather dataframe\n",
    "    new_data = pd.concat([new_data, weather_encoded], axis=1)\n",
    "\n",
    "    # Ensure the new_data has the same column order as your training set\n",
    "    new_data = new_data.reindex(columns = X_encoded.columns, fill_value=0)\n",
    "\n",
    "    # Now we can predict using the new data\n",
    "    predicted_internal_temp = model.predict(new_data)[0]\n",
    "    predicted_internal_temp = round(predicted_internal_temp, 2)\n",
    "    return jsonify({'suggested_temp': predicted_internal_temp})\n",
    "\n",
    "import threading\n",
    "# threading.Thread(target=app.run, kwargs={'port':5001}).start()\n",
    "threading.Thread(target=app.run, kwargs={'port':5001}).start()"
   ]
  },
  {
   "cell_type": "code",
   "execution_count": 13,
   "id": "bf2a7ae2",
   "metadata": {},
   "outputs": [
    {
     "name": "stderr",
     "output_type": "stream",
     "text": [
      " * Running on http://127.0.0.1:5001/ (Press CTRL+C to quit)\n"
     ]
    },
    {
     "ename": "AssertionError",
     "evalue": "View function mapping is overwriting an existing endpoint function: suggested_temperature",
     "output_type": "error",
     "traceback": [
      "\u001b[0;31m---------------------------------------------------------------------------\u001b[0m",
      "\u001b[0;31mAssertionError\u001b[0m                            Traceback (most recent call last)",
      "\u001b[0;32m<ipython-input-13-d6a3eb2ce52b>\u001b[0m in \u001b[0;36m<module>\u001b[0;34m\u001b[0m\n\u001b[1;32m      1\u001b[0m \u001b[0;34m@\u001b[0m\u001b[0mapp\u001b[0m\u001b[0;34m.\u001b[0m\u001b[0mroute\u001b[0m\u001b[0;34m(\u001b[0m\u001b[0;34m\"/suggested_temperature\"\u001b[0m\u001b[0;34m,\u001b[0m \u001b[0mmethods\u001b[0m\u001b[0;34m=\u001b[0m\u001b[0;34m[\u001b[0m\u001b[0;34m'GET'\u001b[0m\u001b[0;34m]\u001b[0m\u001b[0;34m)\u001b[0m\u001b[0;34m\u001b[0m\u001b[0;34m\u001b[0m\u001b[0m\n\u001b[0;32m----> 2\u001b[0;31m \u001b[0;32mdef\u001b[0m \u001b[0msuggested_temperature\u001b[0m\u001b[0;34m(\u001b[0m\u001b[0;34m)\u001b[0m\u001b[0;34m:\u001b[0m\u001b[0;34m\u001b[0m\u001b[0;34m\u001b[0m\u001b[0m\n\u001b[0m\u001b[1;32m      3\u001b[0m     \u001b[0mweather_data\u001b[0m \u001b[0;34m=\u001b[0m \u001b[0mget_weather\u001b[0m\u001b[0;34m(\u001b[0m\u001b[0mapi_key\u001b[0m\u001b[0;34m,\u001b[0m \u001b[0mcity\u001b[0m\u001b[0;34m)\u001b[0m\u001b[0;34m\u001b[0m\u001b[0;34m\u001b[0m\u001b[0m\n\u001b[1;32m      4\u001b[0m     \u001b[0;32mif\u001b[0m \u001b[0mweather_data\u001b[0m \u001b[0;32mis\u001b[0m \u001b[0;32mNone\u001b[0m\u001b[0;34m:\u001b[0m\u001b[0;34m\u001b[0m\u001b[0;34m\u001b[0m\u001b[0m\n\u001b[1;32m      5\u001b[0m         \u001b[0;32mreturn\u001b[0m \u001b[0mjsonify\u001b[0m\u001b[0;34m(\u001b[0m\u001b[0;34m{\u001b[0m\u001b[0;34m'error'\u001b[0m\u001b[0;34m:\u001b[0m \u001b[0;34m'City not found.'\u001b[0m\u001b[0;34m}\u001b[0m\u001b[0;34m)\u001b[0m\u001b[0;34m,\u001b[0m \u001b[0;36m404\u001b[0m\u001b[0;34m\u001b[0m\u001b[0;34m\u001b[0m\u001b[0m\n",
      "\u001b[0;32m~/opt/anaconda3/lib/python3.8/site-packages/flask/app.py\u001b[0m in \u001b[0;36mdecorator\u001b[0;34m(f)\u001b[0m\n\u001b[1;32m   1313\u001b[0m         \u001b[0;32mdef\u001b[0m \u001b[0mdecorator\u001b[0m\u001b[0;34m(\u001b[0m\u001b[0mf\u001b[0m\u001b[0;34m)\u001b[0m\u001b[0;34m:\u001b[0m\u001b[0;34m\u001b[0m\u001b[0;34m\u001b[0m\u001b[0m\n\u001b[1;32m   1314\u001b[0m             \u001b[0mendpoint\u001b[0m \u001b[0;34m=\u001b[0m \u001b[0moptions\u001b[0m\u001b[0;34m.\u001b[0m\u001b[0mpop\u001b[0m\u001b[0;34m(\u001b[0m\u001b[0;34m\"endpoint\"\u001b[0m\u001b[0;34m,\u001b[0m \u001b[0;32mNone\u001b[0m\u001b[0;34m)\u001b[0m\u001b[0;34m\u001b[0m\u001b[0;34m\u001b[0m\u001b[0m\n\u001b[0;32m-> 1315\u001b[0;31m             \u001b[0mself\u001b[0m\u001b[0;34m.\u001b[0m\u001b[0madd_url_rule\u001b[0m\u001b[0;34m(\u001b[0m\u001b[0mrule\u001b[0m\u001b[0;34m,\u001b[0m \u001b[0mendpoint\u001b[0m\u001b[0;34m,\u001b[0m \u001b[0mf\u001b[0m\u001b[0;34m,\u001b[0m \u001b[0;34m**\u001b[0m\u001b[0moptions\u001b[0m\u001b[0;34m)\u001b[0m\u001b[0;34m\u001b[0m\u001b[0;34m\u001b[0m\u001b[0m\n\u001b[0m\u001b[1;32m   1316\u001b[0m             \u001b[0;32mreturn\u001b[0m \u001b[0mf\u001b[0m\u001b[0;34m\u001b[0m\u001b[0;34m\u001b[0m\u001b[0m\n\u001b[1;32m   1317\u001b[0m \u001b[0;34m\u001b[0m\u001b[0m\n",
      "\u001b[0;32m~/opt/anaconda3/lib/python3.8/site-packages/flask/app.py\u001b[0m in \u001b[0;36mwrapper_func\u001b[0;34m(self, *args, **kwargs)\u001b[0m\n\u001b[1;32m     96\u001b[0m                 \u001b[0;34m\"before the application starts serving requests.\"\u001b[0m\u001b[0;34m\u001b[0m\u001b[0;34m\u001b[0m\u001b[0m\n\u001b[1;32m     97\u001b[0m             )\n\u001b[0;32m---> 98\u001b[0;31m         \u001b[0;32mreturn\u001b[0m \u001b[0mf\u001b[0m\u001b[0;34m(\u001b[0m\u001b[0mself\u001b[0m\u001b[0;34m,\u001b[0m \u001b[0;34m*\u001b[0m\u001b[0margs\u001b[0m\u001b[0;34m,\u001b[0m \u001b[0;34m**\u001b[0m\u001b[0mkwargs\u001b[0m\u001b[0;34m)\u001b[0m\u001b[0;34m\u001b[0m\u001b[0;34m\u001b[0m\u001b[0m\n\u001b[0m\u001b[1;32m     99\u001b[0m \u001b[0;34m\u001b[0m\u001b[0m\n\u001b[1;32m    100\u001b[0m     \u001b[0;32mreturn\u001b[0m \u001b[0mupdate_wrapper\u001b[0m\u001b[0;34m(\u001b[0m\u001b[0mwrapper_func\u001b[0m\u001b[0;34m,\u001b[0m \u001b[0mf\u001b[0m\u001b[0;34m)\u001b[0m\u001b[0;34m\u001b[0m\u001b[0;34m\u001b[0m\u001b[0m\n",
      "\u001b[0;32m~/opt/anaconda3/lib/python3.8/site-packages/flask/app.py\u001b[0m in \u001b[0;36madd_url_rule\u001b[0;34m(self, rule, endpoint, view_func, provide_automatic_options, **options)\u001b[0m\n\u001b[1;32m   1280\u001b[0m             \u001b[0mold_func\u001b[0m \u001b[0;34m=\u001b[0m \u001b[0mself\u001b[0m\u001b[0;34m.\u001b[0m\u001b[0mview_functions\u001b[0m\u001b[0;34m.\u001b[0m\u001b[0mget\u001b[0m\u001b[0;34m(\u001b[0m\u001b[0mendpoint\u001b[0m\u001b[0;34m)\u001b[0m\u001b[0;34m\u001b[0m\u001b[0;34m\u001b[0m\u001b[0m\n\u001b[1;32m   1281\u001b[0m             \u001b[0;32mif\u001b[0m \u001b[0mold_func\u001b[0m \u001b[0;32mis\u001b[0m \u001b[0;32mnot\u001b[0m \u001b[0;32mNone\u001b[0m \u001b[0;32mand\u001b[0m \u001b[0mold_func\u001b[0m \u001b[0;34m!=\u001b[0m \u001b[0mview_func\u001b[0m\u001b[0;34m:\u001b[0m\u001b[0;34m\u001b[0m\u001b[0;34m\u001b[0m\u001b[0m\n\u001b[0;32m-> 1282\u001b[0;31m                 raise AssertionError(\n\u001b[0m\u001b[1;32m   1283\u001b[0m                     \u001b[0;34m\"View function mapping is overwriting an \"\u001b[0m\u001b[0;34m\u001b[0m\u001b[0;34m\u001b[0m\u001b[0m\n\u001b[1;32m   1284\u001b[0m                     \u001b[0;34m\"existing endpoint function: %s\"\u001b[0m \u001b[0;34m%\u001b[0m \u001b[0mendpoint\u001b[0m\u001b[0;34m\u001b[0m\u001b[0;34m\u001b[0m\u001b[0m\n",
      "\u001b[0;31mAssertionError\u001b[0m: View function mapping is overwriting an existing endpoint function: suggested_temperature"
     ]
    }
   ],
   "source": [
    "@app.route(\"/suggested_temperature\", methods=['GET'])\n",
    "def suggested_temperature():\n",
    "    weather_data = get_weather(api_key, city)\n",
    "    if weather_data is None:\n",
    "        return jsonify({'error': 'City not found.'}), 404\n",
    "\n",
    "    temp = weather_data[0]\n",
    "    weather = weather_data[4]\n",
    "\n",
    "    # Create an initial dataframe\n",
    "    new_data = pd.DataFrame({'Temperature': [temp]})\n",
    "\n",
    "    # Generate a one-hot encoded dataframe for the 'weather' variable\n",
    "    weather_encoded = pd.get_dummies(pd.Series(weather))\n",
    "\n",
    "    # Make sure that it has all the weather types, even if they're not present in this specific instance\n",
    "    for column in X_train.columns:\n",
    "        if column not in weather_encoded.columns and 'Weather' in column:\n",
    "            weather_encoded[column] = 0\n",
    "\n",
    "    # Concatenate the temperature dataframe and the one-hot encoded weather dataframe\n",
    "    new_data = pd.concat([new_data, weather_encoded], axis=1)\n",
    "\n",
    "    # Ensure the new_data has the same column order as your training set\n",
    "    new_data = new_data.reindex(columns = X_encoded.columns, fill_value=0)\n",
    "\n",
    "    # Now we can predict using the new data\n",
    "    predicted_internal_temp = model.predict(new_data)[0]\n",
    "\n",
    "    return jsonify({'suggested_temp': predicted_internal_temp})\n"
   ]
  },
  {
   "cell_type": "code",
   "execution_count": null,
   "id": "264c4d5f",
   "metadata": {},
   "outputs": [],
   "source": [
    "# Load data from MySQL\n",
    "# engine = create_engine('your_mysql_connection_string')\n",
    "# df = pd.read_sql_table('first', engine)\n",
    "df = pd.read_csv('final_internal_temp.csv')\n",
    "\n",
    "# Convert categorical variables into dummy/indicator variables\n",
    "encoder = OneHotEncoder(sparse=False)\n",
    "weather_encoded = pd.DataFrame(encoder.fit_transform(df[['Weather']]))\n",
    "weather_encoded.columns = encoder.get_feature_names(['Weather'])\n",
    "\n",
    "# Drop column 'Weather' as it is now encoded\n",
    "df = df.drop('Weather', axis = 1)\n",
    "print(df.head())\n",
    "# df1 = pd.read_csv('final_internal_temp.csv')\n",
    "\n",
    "# Join the encoded df\n",
    "df = df.join(weather_encoded)\n",
    "\n",
    "WEATHER_COLUMNS = list(weather_encoded.columns)\n",
    "\n",
    "# Split into prediction target (y) and features (X)\n",
    "...\n",
    "\n",
    "\n",
    "# Join the encoded df\n",
    "# df = df.join(weather_encoded)\n",
    "\n",
    "# Split into prediction target (y) and features (X)\n",
    "y = df['Internal Temperature']\n",
    "features = ['Temperature', 'Feels Like', 'Humidity', 'Wind Speed'] + list(weather_encoded.columns)\n",
    "X = df[features]\n",
    "\n",
    "# Split the data into training and validation datasets\n",
    "train_X, val_X, train_y, val_y = train_test_split(X, y, random_state=0)"
   ]
  },
  {
   "cell_type": "code",
   "execution_count": null,
   "id": "410a1b3b",
   "metadata": {},
   "outputs": [],
   "source": [
    "from sklearn.ensemble import GradientBoostingRegressor\n",
    "\n",
    "# Define the model\n",
    "model = GradientBoostingRegressor(random_state=0)\n",
    "\n",
    "# Fit the model\n",
    "model.fit(train_X, train_y)\n",
    "\n",
    "# Get predictions\n",
    "predictions = model.predict(val_X)\n",
    "\n",
    "# Validate the model using MAE\n",
    "mae = mean_absolute_error(predictions, val_y)\n",
    "print(f'Mean Absolute Error: {mae}')\n"
   ]
  },
  {
   "cell_type": "code",
   "execution_count": null,
   "id": "fb36ee74",
   "metadata": {},
   "outputs": [],
   "source": []
  },
  {
   "cell_type": "code",
   "execution_count": null,
   "id": "f8978431",
   "metadata": {},
   "outputs": [],
   "source": [
    "# def predict_internal_temperature(temp, weather):\n",
    "#     # weather should be one of the unique weather categories in your data\n",
    "#     weather_data = [0]*len(WEATHER_COLUMNS)\n",
    "#     try:\n",
    "#         weather_data[WEATHER_COLUMNS.index('Weather_' + weather)] = 1\n",
    "#     except ValueError:\n",
    "#         print(f\"The weather type '{weather}' was not in the original data, thus can't be used for prediction.\")\n",
    "#         return\n",
    "\n",
    "#     # prepare the feature array\n",
    "#     features = [temp] + weather_data\n",
    "\n",
    "#     # make the prediction\n",
    "#     prediction = model.predict([features])\n",
    "\n",
    "#     return prediction[0]\n"
   ]
  },
  {
   "cell_type": "code",
   "execution_count": null,
   "id": "a286d231",
   "metadata": {},
   "outputs": [],
   "source": [
    "api_key = \"141804de4ea61ac2a29b76576308ed37\"\n",
    "import requests\n",
    "def get_weather(api_key, city):\n",
    "    base_url = f\"http://api.openweathermap.org/data/2.5/weather?q={city}&units=metric&appid={api_key}\"\n",
    "    response = requests.get(base_url)\n",
    "    data = response.json()\n",
    "    if data[\"cod\"] != \"404\":\n",
    "        main = data[\"main\"]\n",
    "        wind = data[\"wind\"]\n",
    "        weather_desc = data[\"weather\"][0][\"description\"]\n",
    "\n",
    "        # collect the necessary data\n",
    "        temperature = main[\"temp\"]\n",
    "        feels_like = main[\"feels_like\"]\n",
    "        humidity = main[\"humidity\"]\n",
    "        wind_speed = wind[\"speed\"]\n",
    "        weather = weather_desc.capitalize()\n",
    "\n",
    "        return temperature, feels_like, humidity, wind_speed, weather\n",
    "    else:\n",
    "        return None\n",
    "\n",
    "# Use your own API Key and preferred city\n",
    "city = \"trento\"\n",
    "\n",
    "weather_data = get_weather(api_key, city)\n",
    "\n",
    "if weather_data is not None:\n",
    "    print(f\"Temperature: {weather_data[0]}°C\")\n",
    "    print(f\"Feels Like: {weather_data[1]}°C\")\n",
    "    print(f\"Humidity: {weather_data[2]}%\")\n",
    "    print(f\"Wind Speed: {weather_data[3]} m/s\")\n",
    "    print(f\"Weather: {weather_data[4]}\")\n",
    "else:\n",
    "    print(\"City not found.\")"
   ]
  },
  {
   "cell_type": "code",
   "execution_count": null,
   "id": "ece3d5aa",
   "metadata": {},
   "outputs": [],
   "source": [
    "temp = weather_data[0]\n",
    "feels_like = weather_data[1]\n",
    "humidity = weather_data[2]\n",
    "wind_speed = weather_data[3]\n",
    "weather = \"Snowy\"  # can be 'Cloudy', 'Rainy', 'Snowy', 'Sunny'\n",
    "\n",
    "# predicted_internal_temp = predict_internal_temperature(temp, feels_like, humidity, wind_speed, weather)\n",
    "\n",
    "\n",
    "new_data = pd.DataFrame({'Temperature':temp , 'Weather_Snowy': [0], 'Weather_Rainy': [0], 'Weather_Cloudy': [1], 'Weather_Sunny': [0]})\n",
    "\n",
    "new_data = new_data[X_encoded.columns]\n",
    "\n",
    "predictions = model.predict(new_data)\n",
    "\n",
    "print(\"Predicted Internal Temperature:\", predictions)"
   ]
  },
  {
   "cell_type": "code",
   "execution_count": null,
   "id": "edb2eeef",
   "metadata": {},
   "outputs": [],
   "source": [
    "# # let's say it's a sunny day with 25 degrees outside, feels like 27 degrees, 45% humidity, and wind speed 5 m/s\n",
    "# temp = weather_data[0]\n",
    "# feels_like = weather_data[1]\n",
    "# humidity = weather_data[2]\n",
    "# wind_speed = weather_data[3]\n",
    "# weather = \"Snowy\"  # can be 'Cloudy', 'Rainy', 'Snowy', 'Sunny'\n",
    "\n",
    "# predicted_internal_temp = predict_internal_temperature(temp,weather)\n",
    "\n",
    "# print(f\"The predicted internal temperature is: {predicted_internal_temp}\")\n"
   ]
  },
  {
   "cell_type": "code",
   "execution_count": null,
   "id": "6fc4c4e4",
   "metadata": {
    "scrolled": true
   },
   "outputs": [],
   "source": [
    "# you need to install the library first\n",
    "# you can do it by running !pip install nest_asyncio in a Jupyter cell\n",
    "\n",
    "import nest_asyncio\n",
    "from flask import Flask, render_template, jsonify, request\n",
    "import json\n",
    "\n",
    "# apply the patch, to enable nested event loops\n",
    "nest_asyncio.apply()\n",
    "\n",
    "app = Flask(__name__, template_folder='.')\n",
    "\n",
    "@app.route(\"/\")\n",
    "def index():\n",
    "    return render_template('thermo.html')\n",
    "\n",
    "@app.route(\"/suggested_temperature\", methods=['GET'])\n",
    "def suggested_temperature():\n",
    "    temperature = weather_data[0]\n",
    "    feels_like = weather_data[1]\n",
    "    humidity = weather_data[2]\n",
    "    wind_speed = weather_data[3]\n",
    "    weather = weather_data[4]  # You were referring to weather_data[3] but weather_data is not defined in this context\n",
    "    return jsonify({'suggested_temp': predictions})  # predicted_internal_temp is not defined in this context\n",
    "\n",
    "# This will run the app without blocking the notebook\n",
    "import threading\n",
    "# threading.Thread(target=app.run, kwargs={'port':5001}).start()\n",
    "threading.Thread(target=app.run, kwargs={'port':5001}).start()\n"
   ]
  },
  {
   "cell_type": "code",
   "execution_count": null,
   "id": "f190acbc",
   "metadata": {},
   "outputs": [],
   "source": [
    "from flask import Flask, render_template, jsonify, request\n",
    "import json\n",
    "\n",
    "app = Flask(__name__, template_folder='.')\n",
    "\n",
    "@app.route(\"/\")\n",
    "def index():\n",
    "    return render_template('thermo.html')\n",
    "\n",
    "@app.route(\"/suggested_temperature\", methods=['GET'])\n",
    "def suggested_temperature():\n",
    "    temperature = 35\n",
    "    feels_like = 34\n",
    "    humidity = 30\n",
    "    wind_speed = 3.2\n",
    "    weather = \"Snowy\"\n",
    "    suggested_temp = 18\n",
    "    return jsonify({'suggested_temp': suggested_temp})\n",
    "\n",
    "if __name__ == \"__main__\":\n",
    "    app.run(port=5001, debug=True)"
   ]
  },
  {
   "cell_type": "code",
   "execution_count": null,
   "id": "89aa3fab",
   "metadata": {},
   "outputs": [],
   "source": []
  },
  {
   "cell_type": "code",
   "execution_count": null,
   "id": "246dc9af",
   "metadata": {},
   "outputs": [],
   "source": []
  },
  {
   "cell_type": "code",
   "execution_count": null,
   "id": "2f7151d5",
   "metadata": {},
   "outputs": [],
   "source": []
  },
  {
   "cell_type": "code",
   "execution_count": null,
   "id": "1f7bba29",
   "metadata": {},
   "outputs": [],
   "source": []
  },
  {
   "cell_type": "code",
   "execution_count": null,
   "id": "e28551f2",
   "metadata": {},
   "outputs": [],
   "source": []
  },
  {
   "cell_type": "code",
   "execution_count": null,
   "id": "c80d11bc",
   "metadata": {},
   "outputs": [],
   "source": []
  },
  {
   "cell_type": "code",
   "execution_count": null,
   "id": "880ad819",
   "metadata": {},
   "outputs": [],
   "source": []
  },
  {
   "cell_type": "code",
   "execution_count": null,
   "id": "858fb7f3",
   "metadata": {},
   "outputs": [],
   "source": []
  },
  {
   "cell_type": "code",
   "execution_count": null,
   "id": "9ae87dab",
   "metadata": {},
   "outputs": [],
   "source": []
  },
  {
   "cell_type": "code",
   "execution_count": null,
   "id": "3d53d428",
   "metadata": {},
   "outputs": [],
   "source": []
  },
  {
   "cell_type": "code",
   "execution_count": null,
   "id": "ec4d8b01",
   "metadata": {},
   "outputs": [],
   "source": []
  },
  {
   "cell_type": "code",
   "execution_count": null,
   "id": "5ba65464",
   "metadata": {},
   "outputs": [],
   "source": []
  },
  {
   "cell_type": "code",
   "execution_count": null,
   "id": "aac01b36",
   "metadata": {},
   "outputs": [],
   "source": []
  }
 ],
 "metadata": {
  "kernelspec": {
   "display_name": "Python 3",
   "language": "python",
   "name": "python3"
  },
  "language_info": {
   "codemirror_mode": {
    "name": "ipython",
    "version": 3
   },
   "file_extension": ".py",
   "mimetype": "text/x-python",
   "name": "python",
   "nbconvert_exporter": "python",
   "pygments_lexer": "ipython3",
   "version": "3.8.8"
  }
 },
 "nbformat": 4,
 "nbformat_minor": 5
}
